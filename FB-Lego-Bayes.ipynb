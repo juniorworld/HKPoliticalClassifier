{
 "cells": [
  {
   "cell_type": "code",
   "execution_count": 1,
   "metadata": {
    "collapsed": false
   },
   "outputs": [],
   "source": [
    "import pandas as pd\n",
    "import numpy as np"
   ]
  },
  {
   "cell_type": "markdown",
   "metadata": {},
   "source": [
    "\n",
    "# Import Y"
   ]
  },
  {
   "cell_type": "code",
   "execution_count": 3,
   "metadata": {
    "collapsed": false,
    "scrolled": true
   },
   "outputs": [],
   "source": [
    "Y=pd.read_csv('comm-at-least-4-Y.csv',header=0,index_col=0)\n",
    "Y=Y.sort_index(axis=0, level=None, ascending=True)\n",
    "Y=Y.fillna(value=0)"
   ]
  },
  {
   "cell_type": "code",
   "execution_count": 227,
   "metadata": {
    "collapsed": false,
    "scrolled": true
   },
   "outputs": [],
   "source": [
    "#Transform to binary int\n",
    "Y_label=np.asarray(Y['Local'], dtype=\"float64\")"
   ]
  },
  {
   "cell_type": "code",
   "execution_count": 216,
   "metadata": {
    "collapsed": false
   },
   "outputs": [
    {
     "name": "stdout",
     "output_type": "stream",
     "text": [
      "2015\n",
      "690.0\n"
     ]
    }
   ],
   "source": [
    "print len(Y_label)\n",
    "print Y_label.sum()"
   ]
  },
  {
   "cell_type": "markdown",
   "metadata": {},
   "source": [
    "\n",
    "# Import and Transform X"
   ]
  },
  {
   "cell_type": "code",
   "execution_count": 5,
   "metadata": {
    "collapsed": true
   },
   "outputs": [],
   "source": [
    "likeall=pd.read_csv(\"./comm-at-least-4-engage.txt\",header=None, names=['time','pageid','uid'],sep=' ')\n",
    "likeall['count']=1"
   ]
  },
  {
   "cell_type": "code",
   "execution_count": 6,
   "metadata": {
    "collapsed": true
   },
   "outputs": [],
   "source": [
    "new_metric=likeall.pivot_table(index='uid',columns='pageid',values='count',aggfunc=np.sum)"
   ]
  },
  {
   "cell_type": "code",
   "execution_count": 7,
   "metadata": {
    "collapsed": true
   },
   "outputs": [],
   "source": [
    "#Save metric\n",
    "new_metric.to_csv(path_or_buf='./comm-at-least-4-engage-metric.csv')"
   ]
  },
  {
   "cell_type": "code",
   "execution_count": 9,
   "metadata": {
    "collapsed": true
   },
   "outputs": [],
   "source": [
    "new_metric=new_metric.fillna(value=0)"
   ]
  },
  {
   "cell_type": "markdown",
   "metadata": {},
   "source": [
    "# Feature Selection: Variance"
   ]
  },
  {
   "cell_type": "code",
   "execution_count": 5,
   "metadata": {
    "collapsed": true
   },
   "outputs": [
    {
     "ename": "ValueError",
     "evalue": "Found array with 0 sample(s) (shape=(0, 0)) while a minimum of 1 is required.",
     "output_type": "error",
     "traceback": [
      "\u001b[1;31m---------------------------------------------------------------------------\u001b[0m",
      "\u001b[1;31mValueError\u001b[0m                                Traceback (most recent call last)",
      "\u001b[1;32m<ipython-input-5-3b81deacf55e>\u001b[0m in \u001b[0;36m<module>\u001b[1;34m()\u001b[0m\n\u001b[0;32m      1\u001b[0m \u001b[1;32mfrom\u001b[0m \u001b[0msklearn\u001b[0m\u001b[1;33m.\u001b[0m\u001b[0mfeature_selection\u001b[0m \u001b[1;32mimport\u001b[0m \u001b[0mVarianceThreshold\u001b[0m\u001b[1;33m\u001b[0m\u001b[0m\n\u001b[0;32m      2\u001b[0m \u001b[0mselector\u001b[0m \u001b[1;33m=\u001b[0m \u001b[0mVarianceThreshold\u001b[0m\u001b[1;33m(\u001b[0m\u001b[0mthreshold\u001b[0m\u001b[1;33m=\u001b[0m\u001b[1;36m0.09\u001b[0m\u001b[1;33m)\u001b[0m\u001b[1;33m\u001b[0m\u001b[0m\n\u001b[1;32m----> 3\u001b[1;33m \u001b[0mmetric_variance\u001b[0m\u001b[1;33m=\u001b[0m\u001b[0mselector\u001b[0m\u001b[1;33m.\u001b[0m\u001b[0mfit_transform\u001b[0m\u001b[1;33m(\u001b[0m\u001b[0mcommall_metric\u001b[0m\u001b[1;33m)\u001b[0m\u001b[1;33m\u001b[0m\u001b[0m\n\u001b[0m",
      "\u001b[1;32mC:\\Users\\junior\\Anaconda2\\lib\\site-packages\\sklearn\\base.pyc\u001b[0m in \u001b[0;36mfit_transform\u001b[1;34m(self, X, y, **fit_params)\u001b[0m\n\u001b[0;32m    492\u001b[0m         \u001b[1;32mif\u001b[0m \u001b[0my\u001b[0m \u001b[1;32mis\u001b[0m \u001b[0mNone\u001b[0m\u001b[1;33m:\u001b[0m\u001b[1;33m\u001b[0m\u001b[0m\n\u001b[0;32m    493\u001b[0m             \u001b[1;31m# fit method of arity 1 (unsupervised transformation)\u001b[0m\u001b[1;33m\u001b[0m\u001b[1;33m\u001b[0m\u001b[0m\n\u001b[1;32m--> 494\u001b[1;33m             \u001b[1;32mreturn\u001b[0m \u001b[0mself\u001b[0m\u001b[1;33m.\u001b[0m\u001b[0mfit\u001b[0m\u001b[1;33m(\u001b[0m\u001b[0mX\u001b[0m\u001b[1;33m,\u001b[0m \u001b[1;33m**\u001b[0m\u001b[0mfit_params\u001b[0m\u001b[1;33m)\u001b[0m\u001b[1;33m.\u001b[0m\u001b[0mtransform\u001b[0m\u001b[1;33m(\u001b[0m\u001b[0mX\u001b[0m\u001b[1;33m)\u001b[0m\u001b[1;33m\u001b[0m\u001b[0m\n\u001b[0m\u001b[0;32m    495\u001b[0m         \u001b[1;32melse\u001b[0m\u001b[1;33m:\u001b[0m\u001b[1;33m\u001b[0m\u001b[0m\n\u001b[0;32m    496\u001b[0m             \u001b[1;31m# fit method of arity 2 (supervised transformation)\u001b[0m\u001b[1;33m\u001b[0m\u001b[1;33m\u001b[0m\u001b[0m\n",
      "\u001b[1;32mC:\\Users\\junior\\Anaconda2\\lib\\site-packages\\sklearn\\feature_selection\\variance_threshold.pyc\u001b[0m in \u001b[0;36mfit\u001b[1;34m(self, X, y)\u001b[0m\n\u001b[0;32m     62\u001b[0m         \u001b[0mself\u001b[0m\u001b[1;33m\u001b[0m\u001b[0m\n\u001b[0;32m     63\u001b[0m         \"\"\"\n\u001b[1;32m---> 64\u001b[1;33m         \u001b[0mX\u001b[0m \u001b[1;33m=\u001b[0m \u001b[0mcheck_array\u001b[0m\u001b[1;33m(\u001b[0m\u001b[0mX\u001b[0m\u001b[1;33m,\u001b[0m \u001b[1;33m(\u001b[0m\u001b[1;34m'csr'\u001b[0m\u001b[1;33m,\u001b[0m \u001b[1;34m'csc'\u001b[0m\u001b[1;33m)\u001b[0m\u001b[1;33m,\u001b[0m \u001b[0mdtype\u001b[0m\u001b[1;33m=\u001b[0m\u001b[0mnp\u001b[0m\u001b[1;33m.\u001b[0m\u001b[0mfloat64\u001b[0m\u001b[1;33m)\u001b[0m\u001b[1;33m\u001b[0m\u001b[0m\n\u001b[0m\u001b[0;32m     65\u001b[0m \u001b[1;33m\u001b[0m\u001b[0m\n\u001b[0;32m     66\u001b[0m         \u001b[1;32mif\u001b[0m \u001b[0mhasattr\u001b[0m\u001b[1;33m(\u001b[0m\u001b[0mX\u001b[0m\u001b[1;33m,\u001b[0m \u001b[1;34m\"toarray\"\u001b[0m\u001b[1;33m)\u001b[0m\u001b[1;33m:\u001b[0m   \u001b[1;31m# sparse matrix\u001b[0m\u001b[1;33m\u001b[0m\u001b[0m\n",
      "\u001b[1;32mC:\\Users\\junior\\Anaconda2\\lib\\site-packages\\sklearn\\utils\\validation.pyc\u001b[0m in \u001b[0;36mcheck_array\u001b[1;34m(array, accept_sparse, dtype, order, copy, force_all_finite, ensure_2d, allow_nd, ensure_min_samples, ensure_min_features, warn_on_dtype, estimator)\u001b[0m\n\u001b[0;32m    414\u001b[0m                              \u001b[1;34m\" minimum of %d is required%s.\"\u001b[0m\u001b[1;33m\u001b[0m\u001b[0m\n\u001b[0;32m    415\u001b[0m                              % (n_samples, shape_repr, ensure_min_samples,\n\u001b[1;32m--> 416\u001b[1;33m                                 context))\n\u001b[0m\u001b[0;32m    417\u001b[0m \u001b[1;33m\u001b[0m\u001b[0m\n\u001b[0;32m    418\u001b[0m     \u001b[1;32mif\u001b[0m \u001b[0mensure_min_features\u001b[0m \u001b[1;33m>\u001b[0m \u001b[1;36m0\u001b[0m \u001b[1;32mand\u001b[0m \u001b[0marray\u001b[0m\u001b[1;33m.\u001b[0m\u001b[0mndim\u001b[0m \u001b[1;33m==\u001b[0m \u001b[1;36m2\u001b[0m\u001b[1;33m:\u001b[0m\u001b[1;33m\u001b[0m\u001b[0m\n",
      "\u001b[1;31mValueError\u001b[0m: Found array with 0 sample(s) (shape=(0, 0)) while a minimum of 1 is required."
     ]
    }
   ],
   "source": [
    "from sklearn.feature_selection import VarianceThreshold\n",
    "selector = VarianceThreshold(threshold=0.09)\n",
    "metric_variance=selector.fit_transform(new_metric)"
   ]
  },
  {
   "cell_type": "code",
   "execution_count": 21,
   "metadata": {
    "collapsed": false
   },
   "outputs": [
    {
     "name": "stdout",
     "output_type": "stream",
     "text": [
      "(2015, 895)\n",
      "(2015L, 67L)\n"
     ]
    }
   ],
   "source": [
    "print new_metric.shape\n",
    "print metric_variance.shape"
   ]
  },
  {
   "cell_type": "code",
   "execution_count": 38,
   "metadata": {
    "collapsed": false
   },
   "outputs": [],
   "source": [
    "new_columns=new_metric.columns[selector.variances_>=0.09]"
   ]
  },
  {
   "cell_type": "code",
   "execution_count": 39,
   "metadata": {
    "collapsed": true
   },
   "outputs": [],
   "source": [
    "np.savetxt('bayes-pages.txt',new_columns,fmt='%s')"
   ]
  },
  {
   "cell_type": "code",
   "execution_count": 226,
   "metadata": {
    "collapsed": true
   },
   "outputs": [],
   "source": [
    "X_selected=metric_variance"
   ]
  },
  {
   "cell_type": "code",
   "execution_count": 12,
   "metadata": {
    "collapsed": false
   },
   "outputs": [
    {
     "data": {
      "text/plain": [
       "(2015L, 67L)"
      ]
     },
     "execution_count": 12,
     "metadata": {},
     "output_type": "execute_result"
    }
   ],
   "source": [
    "X_selected.shape"
   ]
  },
  {
   "cell_type": "markdown",
   "metadata": {},
   "source": [
    "# Split Test Set"
   ]
  },
  {
   "cell_type": "code",
   "execution_count": 259,
   "metadata": {
    "collapsed": true
   },
   "outputs": [],
   "source": [
    "from sklearn.cross_validation import train_test_split\n",
    "X_train, X_test, y_train, y_test = train_test_split(metric_variance, Y, test_size=200, random_state=42)"
   ]
  },
  {
   "cell_type": "code",
   "execution_count": 261,
   "metadata": {
    "collapsed": false
   },
   "outputs": [
    {
     "name": "stdout",
     "output_type": "stream",
     "text": [
      "(200L, 67L) (200, 3) (1815L, 67L) (1815, 3)\n"
     ]
    }
   ],
   "source": [
    "print X_test.shape, y_test.shape,X_train.shape,y_train.shape"
   ]
  },
  {
   "cell_type": "code",
   "execution_count": null,
   "metadata": {
    "collapsed": true
   },
   "outputs": [],
   "source": [
    "X_selected=X_train\n",
    "Y_label=np.asarray(Y['Yellow'], dtype=\"float64\")"
   ]
  },
  {
   "cell_type": "markdown",
   "metadata": {},
   "source": [
    "## Over-sampling SMOTE"
   ]
  },
  {
   "cell_type": "code",
   "execution_count": 228,
   "metadata": {
    "collapsed": true
   },
   "outputs": [],
   "source": [
    "from imblearn.over_sampling import SMOTE\n",
    "sm = SMOTE(kind='borderline1',ratio=1.0)\n",
    "X_resampled, y_resampled = sm.fit_sample(X_selected, Y_label)"
   ]
  },
  {
   "cell_type": "code",
   "execution_count": 229,
   "metadata": {
    "collapsed": false
   },
   "outputs": [
    {
     "name": "stdout",
     "output_type": "stream",
     "text": [
      "(3872L, 67L)\n",
      "1936\n"
     ]
    }
   ],
   "source": [
    "print X_resampled.shape\n",
    "print len(y_resampled[y_resampled==1])"
   ]
  },
  {
   "cell_type": "code",
   "execution_count": 230,
   "metadata": {
    "collapsed": true
   },
   "outputs": [],
   "source": [
    "X_selected=X_resampled\n",
    "Y_label=y_resampled"
   ]
  },
  {
   "cell_type": "markdown",
   "metadata": {},
   "source": [
    "# Bayes"
   ]
  },
  {
   "cell_type": "code",
   "execution_count": 231,
   "metadata": {
    "collapsed": false
   },
   "outputs": [
    {
     "name": "stdout",
     "output_type": "stream",
     "text": [
      "0.729117034346 0.759930046515 0.858757027307 0.683565742776\n"
     ]
    }
   ],
   "source": [
    "from sklearn.cross_validation import KFold\n",
    "from sklearn.naive_bayes import MultinomialNB\n",
    "NB=MultinomialNB()\n",
    "k=20\n",
    "kf = KFold(3872, n_folds=k,shuffle=True)\n",
    "recall=0.0\n",
    "rate=0.0\n",
    "precision=0.0\n",
    "f1=0\n",
    "for train_index, test_index in kf:\n",
    "    NB.partial_fit(X_selected[train_index], Y_label[train_index],classes=[0,1])\n",
    "    X=NB.predict(X_selected[test_index])\n",
    "    X=pd.concat([pd.DataFrame(X),pd.DataFrame(Y_label[test_index])],axis=1, ignore_index=True)\n",
    "    X['count']=1\n",
    "    Acc=X.pivot_table(index=0,columns=1,values='count',aggfunc=np.sum)\n",
    "    Acc=Acc.fillna(value=0)\n",
    "    if Acc.shape==(2,2):\n",
    "        rate=rate+(float(Acc[0][0]+Acc[1][1])/Acc.sum().sum())\n",
    "        recall=recall+(float(Acc[1][1])/float(Acc[1][0]+Acc[1][1]))\n",
    "        precision=precision+(float(Acc[1][1])/float(Acc[0][1]+Acc[1][1]))\n",
    "        f1=f1+2 * ((float(Acc[1][1])/float(Acc[0][1]+Acc[1][1])) * (float(Acc[1][1])/float(Acc[1][0]+Acc[1][1]))) / ((float(Acc[1][1])/float(Acc[0][1]+Acc[1][1])) + (float(Acc[1][1])/float(Acc[1][0]+Acc[1][1])))\n",
    "    elif Acc.shape==(1,2):\n",
    "        if Acc.index[0]==0:\n",
    "            rate=rate+(float(Acc[0][0])/Acc.sum().sum())\n",
    "        else:\n",
    "            rate=rate+(float(Acc[0][1])/Acc.sum().sum())\n",
    "            recall=recall+1\n",
    "            precision=precision+(float(Acc[0][1])/Acc.sum().sum())\n",
    "            f1=f1+(2 * ((float(Acc[0][1])/Acc.sum().sum()) * 1) / ((float(Acc[0][1])/Acc.sum().sum()) + 1))\n",
    "    elif Acc.shape==(2,1):\n",
    "        if Acc.columns==1:\n",
    "            rate=rate+(float(Acc.iloc[1])/Acc.sum().sum())\n",
    "            recall=recall+(float(Acc.iloc[1])/Acc.sum().sum())\n",
    "            precision=precision+1\n",
    "            f1=f1+1\n",
    "        else:\n",
    "            rate=rate+(float(Acc.iloc[0])/Acc.sum().sum())\n",
    "            recall=recall+1\n",
    "            precision=precision+1\n",
    "            f1=f1+1\n",
    "    else: #Acc.shape=(1,1)\n",
    "        rate=rate+1\n",
    "        recall=recall+1\n",
    "        precision=precision+1\n",
    "        f1=f1+1\n",
    "rate=float(rate)/k\n",
    "recall=float(recall)/k\n",
    "precision=float(precision)/k\n",
    "f1=float(f1)/k\n",
    "print rate,f1,recall,precision"
   ]
  },
  {
   "cell_type": "code",
   "execution_count": 232,
   "metadata": {
    "collapsed": false
   },
   "outputs": [
    {
     "name": "stdout",
     "output_type": "stream",
     "text": [
      "[-11.99189391  -3.73658306  -4.15785613  -5.69450281 -11.99189391\n",
      "  -3.76685428  -1.84429489  -4.57600746 -11.99189391 -11.99189391\n",
      "  -4.21723746  -3.37807256  -3.47735261  -5.91799047 -11.99189391\n",
      " -11.99189391 -11.99189391  -5.56304752  -4.30666987 -11.99189391\n",
      "  -3.80719747 -11.99189391  -4.71503166  -4.43952583  -5.57097444\n",
      "  -5.3875759   -3.75599167  -5.60446915 -11.99189391  -5.04261443\n",
      "  -4.67644803  -3.99254906  -3.01105096  -2.88547435  -3.0539085\n",
      "  -6.25197378  -3.89633986  -3.74828535  -7.10123569  -3.27003511\n",
      "  -5.9256664   -3.40585495  -4.01841304  -2.58374098 -11.99189391\n",
      "  -3.81643309  -5.08216237  -5.69450281 -11.99189391  -3.42902451\n",
      "  -5.49468991  -4.92736662 -11.99189391 -11.99189391 -11.99189391\n",
      " -11.99189391 -11.99189391  -4.8819484  -11.99189391  -3.70582603\n",
      "  -3.12278927  -6.29333313  -6.58121515  -6.53985586  -3.48414425\n",
      " -11.99189391 -11.99189391]\n",
      "(67L,)\n"
     ]
    }
   ],
   "source": [
    "print NB.feature_log_prob_[1] #P(X|y) when y=1\n",
    "rank = NB.feature_log_prob_[1].argsort()\n",
    "print new_columns[rank].shape"
   ]
  },
  {
   "cell_type": "code",
   "execution_count": null,
   "metadata": {
    "collapsed": true
   },
   "outputs": [],
   "source": [
    "np.savetxt('bayes-pages-l.txt',new_columns[rank],fmt='%s')"
   ]
  },
  {
   "cell_type": "markdown",
   "metadata": {},
   "source": [
    "# Predicting"
   ]
  },
  {
   "cell_type": "code",
   "execution_count": 192,
   "metadata": {
    "collapsed": false
   },
   "outputs": [
    {
     "name": "stdout",
     "output_type": "stream",
     "text": [
      "219070.0\n"
     ]
    }
   ],
   "source": [
    "print NB.feature_count_[0].sum()"
   ]
  },
  {
   "cell_type": "code",
   "execution_count": 233,
   "metadata": {
    "collapsed": false
   },
   "outputs": [],
   "source": [
    "X_log_prob=np.log(X_selected.sum(axis=0)/X_selected.sum())"
   ]
  },
  {
   "cell_type": "code",
   "execution_count": 234,
   "metadata": {
    "collapsed": true
   },
   "outputs": [],
   "source": [
    "rank2=(NB.feature_log_prob_[1]-X_log_prob).argsort()"
   ]
  },
  {
   "cell_type": "code",
   "execution_count": 235,
   "metadata": {
    "collapsed": false
   },
   "outputs": [
    {
     "data": {
      "text/plain": [
       "Int64Index([ 107065679322731,     126261789615,  544241848968882,\n",
       "             108591025857376,      46446727755,  136845026417486,\n",
       "                171502099497,  108930682554176,  121625551334730,\n",
       "             522230507809373,  834591649886233,  497786323638932,\n",
       "             423210364471433,  560688430610088,  172626052751159,\n",
       "            1476654739234157,  517394455028454,  535289793202478,\n",
       "                  5852261029,  544863235566535,  498565150232596,\n",
       "             486392624735448,  156468627834558,  276842442361916,\n",
       "             706305859460576,  512700315470576,  223783954322429,\n",
       "                 46251501064,  169360916432640,     291139551002,\n",
       "             587874824557675,  352962731493606,  634339023261344,\n",
       "             149986161704699,  178965725523592,  117969648299869,\n",
       "             494307913997852,     180447291099,  273813022746352,\n",
       "             287013041410957,  139543009419663,     100375550229,\n",
       "                 27743445015,  448027308647829,  160696287290644,\n",
       "                 10795878252,     105259197447,  373889722672759,\n",
       "                105759983026,  568718043162016,  186040714921338,\n",
       "             420361564693683,  121358481388309,  200954406608272,\n",
       "             272574169481780,  548856635131690,  498203090239831,\n",
       "             406156242829341,  179264152235008,  144189602310884,\n",
       "             211662168866197,  200976479994868,  127069410651529,\n",
       "             569337929781203,     196583419888,     269056797871,\n",
       "             729586907148929],\n",
       "           dtype='int64', name=u'pageid')"
      ]
     },
     "execution_count": 235,
     "metadata": {},
     "output_type": "execute_result"
    }
   ],
   "source": [
    "new_columns[rank2]"
   ]
  },
  {
   "cell_type": "code",
   "execution_count": null,
   "metadata": {
    "collapsed": true
   },
   "outputs": [],
   "source": [
    "np.savetxt('bayes-pages-b.txt',new_columns[rank2],fmt='%s')"
   ]
  },
  {
   "cell_type": "code",
   "execution_count": 3,
   "metadata": {
    "collapsed": false
   },
   "outputs": [],
   "source": [
    "commall=pd.read_csv(\"commall.csv\",header=None, names=['time','pageid','uid'])"
   ]
  },
  {
   "cell_type": "code",
   "execution_count": 61,
   "metadata": {
    "collapsed": false
   },
   "outputs": [],
   "source": [
    "comm_filter=commall[commall.pageid.isin(new_columns)]"
   ]
  },
  {
   "cell_type": "code",
   "execution_count": 63,
   "metadata": {
    "collapsed": false
   },
   "outputs": [
    {
     "name": "stderr",
     "output_type": "stream",
     "text": [
      "C:\\Users\\junior\\Anaconda2\\lib\\site-packages\\ipykernel\\__main__.py:1: SettingWithCopyWarning: \n",
      "A value is trying to be set on a copy of a slice from a DataFrame.\n",
      "Try using .loc[row_indexer,col_indexer] = value instead\n",
      "\n",
      "See the caveats in the documentation: http://pandas.pydata.org/pandas-docs/stable/indexing.html#indexing-view-versus-copy\n",
      "  if __name__ == '__main__':\n"
     ]
    }
   ],
   "source": [
    "comm_filter['count']=1"
   ]
  },
  {
   "cell_type": "code",
   "execution_count": 64,
   "metadata": {
    "collapsed": false
   },
   "outputs": [],
   "source": [
    "predict_metric=comm_filter.pivot_table(index='uid',columns='pageid',values='count',aggfunc=np.sum)"
   ]
  },
  {
   "cell_type": "code",
   "execution_count": 256,
   "metadata": {
    "collapsed": false
   },
   "outputs": [
    {
     "data": {
      "text/plain": [
       "368779"
      ]
     },
     "execution_count": 256,
     "metadata": {},
     "output_type": "execute_result"
    }
   ],
   "source": [
    "len(predict_metric)"
   ]
  },
  {
   "cell_type": "code",
   "execution_count": 76,
   "metadata": {
    "collapsed": false
   },
   "outputs": [],
   "source": [
    "predict_metric=predict_metric.fillna(value=0)"
   ]
  },
  {
   "cell_type": "code",
   "execution_count": null,
   "metadata": {
    "collapsed": true
   },
   "outputs": [],
   "source": [
    "predict_results_local,predict_metric_local,pages_local\n",
    "predict_results_yellow,predict_metric_yellow,pages_yellow\n",
    "predict_results_blue,predict_metric_blue,pages_blue"
   ]
  },
  {
   "cell_type": "code",
   "execution_count": 129,
   "metadata": {
    "collapsed": false
   },
   "outputs": [],
   "source": [
    "predict_results_blue=NB.predict(predict_metric)"
   ]
  },
  {
   "cell_type": "code",
   "execution_count": 130,
   "metadata": {
    "collapsed": false
   },
   "outputs": [
    {
     "data": {
      "text/plain": [
       "44270"
      ]
     },
     "execution_count": 130,
     "metadata": {},
     "output_type": "execute_result"
    }
   ],
   "source": [
    "predict_results_blue.sum()"
   ]
  },
  {
   "cell_type": "code",
   "execution_count": 131,
   "metadata": {
    "collapsed": false
   },
   "outputs": [],
   "source": [
    "predict_metric_blue=predict_metric.mul(predict_results_blue,axis='index')"
   ]
  },
  {
   "cell_type": "code",
   "execution_count": 132,
   "metadata": {
    "collapsed": false
   },
   "outputs": [],
   "source": [
    "pages_blue=predict_metric_blue.sum()"
   ]
  },
  {
   "cell_type": "code",
   "execution_count": 135,
   "metadata": {
    "collapsed": true
   },
   "outputs": [
    {
     "data": {
      "text/plain": [
       "pageid\n",
       "179264152235008         0.0\n",
       "136845026417486         0.0\n",
       "352962731493606         0.0\n",
       "423210364471433         0.0\n",
       "291139551002            0.0\n",
       "494307913997852         1.0\n",
       "544863235566535         1.0\n",
       "149986161704699         1.0\n",
       "108591025857376         1.0\n",
       "535289793202478         2.0\n",
       "127069410651529         2.0\n",
       "171502099497            2.0\n",
       "46251501064             2.0\n",
       "406156242829341         3.0\n",
       "560688430610088         3.0\n",
       "548856635131690         3.0\n",
       "729586907148929         3.0\n",
       "569337929781203         4.0\n",
       "544241848968882         4.0\n",
       "497786323638932         5.0\n",
       "517394455028454         6.0\n",
       "172626052751159         7.0\n",
       "144189602310884         7.0\n",
       "223783954322429         9.0\n",
       "46446727755             9.0\n",
       "272574169481780        11.0\n",
       "105759983026           11.0\n",
       "108930682554176        11.0\n",
       "117969648299869        11.0\n",
       "126261789615           12.0\n",
       "                     ...   \n",
       "121358481388309        49.0\n",
       "276842442361916        68.0\n",
       "139543009419663        75.0\n",
       "568718043162016        76.0\n",
       "498203090239831        80.0\n",
       "1476654739234157       92.0\n",
       "587874824557675       101.0\n",
       "273813022746352       112.0\n",
       "169360916432640       129.0\n",
       "27743445015           130.0\n",
       "448027308647829       132.0\n",
       "200954406608272       133.0\n",
       "287013041410957       158.0\n",
       "196583419888          208.0\n",
       "100375550229          259.0\n",
       "269056797871          265.0\n",
       "211662168866197       317.0\n",
       "200976479994868       385.0\n",
       "160696287290644       484.0\n",
       "420361564693683       615.0\n",
       "105259197447         1660.0\n",
       "186040714921338      1874.0\n",
       "834591649886233      2929.0\n",
       "522230507809373      3128.0\n",
       "706305859460576      3685.0\n",
       "107065679322731      8494.0\n",
       "156468627834558     17767.0\n",
       "512700315470576     19059.0\n",
       "498565150232596     27758.0\n",
       "486392624735448     28650.0\n",
       "dtype: float64"
      ]
     },
     "execution_count": 135,
     "metadata": {},
     "output_type": "execute_result"
    }
   ],
   "source": [
    "pages_blue.sort_values()"
   ]
  },
  {
   "cell_type": "code",
   "execution_count": 139,
   "metadata": {
    "collapsed": false
   },
   "outputs": [],
   "source": [
    "pages=pd.concat([pages_yellow,pages_blue,pages_local], axis=1)"
   ]
  },
  {
   "cell_type": "code",
   "execution_count": 160,
   "metadata": {
    "collapsed": false
   },
   "outputs": [],
   "source": [
    "pages_prob=pages.mul(1/pages.sum(axis=1),axis='index')"
   ]
  },
  {
   "cell_type": "code",
   "execution_count": 163,
   "metadata": {
    "collapsed": true
   },
   "outputs": [],
   "source": [
    "pages_entropy=pages_prob.mul(-np.log2(pages_prob),axis='index')"
   ]
  },
  {
   "cell_type": "code",
   "execution_count": 166,
   "metadata": {
    "collapsed": false
   },
   "outputs": [],
   "source": [
    "pages_entropy=pages_entropy.fillna(value=0)"
   ]
  },
  {
   "cell_type": "code",
   "execution_count": 253,
   "metadata": {
    "collapsed": false,
    "scrolled": true
   },
   "outputs": [
    {
     "data": {
      "text/html": [
       "<div>\n",
       "<table border=\"1\" class=\"dataframe\">\n",
       "  <thead>\n",
       "    <tr style=\"text-align: right;\">\n",
       "      <th></th>\n",
       "      <th>0</th>\n",
       "      <th>1</th>\n",
       "      <th>2</th>\n",
       "    </tr>\n",
       "    <tr>\n",
       "      <th>pageid</th>\n",
       "      <th></th>\n",
       "      <th></th>\n",
       "      <th></th>\n",
       "    </tr>\n",
       "  </thead>\n",
       "  <tbody>\n",
       "    <tr>\n",
       "      <th>171502099497</th>\n",
       "      <td>0.866667</td>\n",
       "      <td>0.133333</td>\n",
       "      <td>0.000000</td>\n",
       "    </tr>\n",
       "    <tr>\n",
       "      <th>522230507809373</th>\n",
       "      <td>0.009798</td>\n",
       "      <td>0.988622</td>\n",
       "      <td>0.001580</td>\n",
       "    </tr>\n",
       "    <tr>\n",
       "      <th>834591649886233</th>\n",
       "      <td>0.014113</td>\n",
       "      <td>0.984207</td>\n",
       "      <td>0.001680</td>\n",
       "    </tr>\n",
       "    <tr>\n",
       "      <th>517394455028454</th>\n",
       "      <td>0.994040</td>\n",
       "      <td>0.003974</td>\n",
       "      <td>0.001987</td>\n",
       "    </tr>\n",
       "    <tr>\n",
       "      <th>706305859460576</th>\n",
       "      <td>0.005105</td>\n",
       "      <td>0.990059</td>\n",
       "      <td>0.004836</td>\n",
       "    </tr>\n",
       "    <tr>\n",
       "      <th>126261789615</th>\n",
       "      <td>0.987066</td>\n",
       "      <td>0.007055</td>\n",
       "      <td>0.005879</td>\n",
       "    </tr>\n",
       "    <tr>\n",
       "      <th>498565150232596</th>\n",
       "      <td>0.011428</td>\n",
       "      <td>0.982063</td>\n",
       "      <td>0.006510</td>\n",
       "    </tr>\n",
       "    <tr>\n",
       "      <th>107065679322731</th>\n",
       "      <td>0.249759</td>\n",
       "      <td>0.743587</td>\n",
       "      <td>0.006653</td>\n",
       "    </tr>\n",
       "    <tr>\n",
       "      <th>512700315470576</th>\n",
       "      <td>0.012447</td>\n",
       "      <td>0.980300</td>\n",
       "      <td>0.007252</td>\n",
       "    </tr>\n",
       "    <tr>\n",
       "      <th>423210364471433</th>\n",
       "      <td>0.991499</td>\n",
       "      <td>0.000000</td>\n",
       "      <td>0.008501</td>\n",
       "    </tr>\n",
       "    <tr>\n",
       "      <th>497786323638932</th>\n",
       "      <td>0.966184</td>\n",
       "      <td>0.024155</td>\n",
       "      <td>0.009662</td>\n",
       "    </tr>\n",
       "    <tr>\n",
       "      <th>486392624735448</th>\n",
       "      <td>0.026277</td>\n",
       "      <td>0.962702</td>\n",
       "      <td>0.011022</td>\n",
       "    </tr>\n",
       "    <tr>\n",
       "      <th>108930682554176</th>\n",
       "      <td>0.840000</td>\n",
       "      <td>0.146667</td>\n",
       "      <td>0.013333</td>\n",
       "    </tr>\n",
       "    <tr>\n",
       "      <th>156468627834558</th>\n",
       "      <td>0.039430</td>\n",
       "      <td>0.945405</td>\n",
       "      <td>0.015165</td>\n",
       "    </tr>\n",
       "    <tr>\n",
       "      <th>1476654739234157</th>\n",
       "      <td>0.466292</td>\n",
       "      <td>0.516854</td>\n",
       "      <td>0.016854</td>\n",
       "    </tr>\n",
       "    <tr>\n",
       "      <th>108591025857376</th>\n",
       "      <td>0.958333</td>\n",
       "      <td>0.020833</td>\n",
       "      <td>0.020833</td>\n",
       "    </tr>\n",
       "    <tr>\n",
       "      <th>560688430610088</th>\n",
       "      <td>0.974071</td>\n",
       "      <td>0.001296</td>\n",
       "      <td>0.024633</td>\n",
       "    </tr>\n",
       "    <tr>\n",
       "      <th>46446727755</th>\n",
       "      <td>0.871287</td>\n",
       "      <td>0.089109</td>\n",
       "      <td>0.039604</td>\n",
       "    </tr>\n",
       "    <tr>\n",
       "      <th>172626052751159</th>\n",
       "      <td>0.818182</td>\n",
       "      <td>0.127273</td>\n",
       "      <td>0.054545</td>\n",
       "    </tr>\n",
       "    <tr>\n",
       "      <th>544241848968882</th>\n",
       "      <td>0.919192</td>\n",
       "      <td>0.020202</td>\n",
       "      <td>0.060606</td>\n",
       "    </tr>\n",
       "    <tr>\n",
       "      <th>121625551334730</th>\n",
       "      <td>0.929124</td>\n",
       "      <td>0.009665</td>\n",
       "      <td>0.061211</td>\n",
       "    </tr>\n",
       "    <tr>\n",
       "      <th>544863235566535</th>\n",
       "      <td>0.924242</td>\n",
       "      <td>0.005051</td>\n",
       "      <td>0.070707</td>\n",
       "    </tr>\n",
       "    <tr>\n",
       "      <th>276842442361916</th>\n",
       "      <td>0.907292</td>\n",
       "      <td>0.019220</td>\n",
       "      <td>0.073488</td>\n",
       "    </tr>\n",
       "    <tr>\n",
       "      <th>5852261029</th>\n",
       "      <td>0.423913</td>\n",
       "      <td>0.489130</td>\n",
       "      <td>0.086957</td>\n",
       "    </tr>\n",
       "    <tr>\n",
       "      <th>587874824557675</th>\n",
       "      <td>0.780463</td>\n",
       "      <td>0.101712</td>\n",
       "      <td>0.117825</td>\n",
       "    </tr>\n",
       "    <tr>\n",
       "      <th>169360916432640</th>\n",
       "      <td>0.708223</td>\n",
       "      <td>0.171088</td>\n",
       "      <td>0.120690</td>\n",
       "    </tr>\n",
       "    <tr>\n",
       "      <th>223783954322429</th>\n",
       "      <td>0.866418</td>\n",
       "      <td>0.002395</td>\n",
       "      <td>0.131187</td>\n",
       "    </tr>\n",
       "    <tr>\n",
       "      <th>535289793202478</th>\n",
       "      <td>0.843373</td>\n",
       "      <td>0.024096</td>\n",
       "      <td>0.132530</td>\n",
       "    </tr>\n",
       "    <tr>\n",
       "      <th>136845026417486</th>\n",
       "      <td>0.843750</td>\n",
       "      <td>0.000000</td>\n",
       "      <td>0.156250</td>\n",
       "    </tr>\n",
       "    <tr>\n",
       "      <th>273813022746352</th>\n",
       "      <td>0.774268</td>\n",
       "      <td>0.004456</td>\n",
       "      <td>0.221276</td>\n",
       "    </tr>\n",
       "    <tr>\n",
       "      <th>...</th>\n",
       "      <td>...</td>\n",
       "      <td>...</td>\n",
       "      <td>...</td>\n",
       "    </tr>\n",
       "    <tr>\n",
       "      <th>139543009419663</th>\n",
       "      <td>0.546853</td>\n",
       "      <td>0.021361</td>\n",
       "      <td>0.431786</td>\n",
       "    </tr>\n",
       "    <tr>\n",
       "      <th>160696287290644</th>\n",
       "      <td>0.525078</td>\n",
       "      <td>0.039536</td>\n",
       "      <td>0.435386</td>\n",
       "    </tr>\n",
       "    <tr>\n",
       "      <th>568718043162016</th>\n",
       "      <td>0.550238</td>\n",
       "      <td>0.008599</td>\n",
       "      <td>0.441163</td>\n",
       "    </tr>\n",
       "    <tr>\n",
       "      <th>27743445015</th>\n",
       "      <td>0.545067</td>\n",
       "      <td>0.013499</td>\n",
       "      <td>0.441433</td>\n",
       "    </tr>\n",
       "    <tr>\n",
       "      <th>10795878252</th>\n",
       "      <td>0.554191</td>\n",
       "      <td>0.001935</td>\n",
       "      <td>0.443874</td>\n",
       "    </tr>\n",
       "    <tr>\n",
       "      <th>373889722672759</th>\n",
       "      <td>0.552476</td>\n",
       "      <td>0.002147</td>\n",
       "      <td>0.445377</td>\n",
       "    </tr>\n",
       "    <tr>\n",
       "      <th>420361564693683</th>\n",
       "      <td>0.534449</td>\n",
       "      <td>0.016963</td>\n",
       "      <td>0.448588</td>\n",
       "    </tr>\n",
       "    <tr>\n",
       "      <th>100375550229</th>\n",
       "      <td>0.537170</td>\n",
       "      <td>0.011819</td>\n",
       "      <td>0.451011</td>\n",
       "    </tr>\n",
       "    <tr>\n",
       "      <th>105259197447</th>\n",
       "      <td>0.535867</td>\n",
       "      <td>0.012738</td>\n",
       "      <td>0.451395</td>\n",
       "    </tr>\n",
       "    <tr>\n",
       "      <th>272574169481780</th>\n",
       "      <td>0.546528</td>\n",
       "      <td>0.001367</td>\n",
       "      <td>0.452106</td>\n",
       "    </tr>\n",
       "    <tr>\n",
       "      <th>211662168866197</th>\n",
       "      <td>0.526019</td>\n",
       "      <td>0.021508</td>\n",
       "      <td>0.452473</td>\n",
       "    </tr>\n",
       "    <tr>\n",
       "      <th>121358481388309</th>\n",
       "      <td>0.536646</td>\n",
       "      <td>0.010232</td>\n",
       "      <td>0.453122</td>\n",
       "    </tr>\n",
       "    <tr>\n",
       "      <th>200976479994868</th>\n",
       "      <td>0.522798</td>\n",
       "      <td>0.023982</td>\n",
       "      <td>0.453220</td>\n",
       "    </tr>\n",
       "    <tr>\n",
       "      <th>127069410651529</th>\n",
       "      <td>0.545917</td>\n",
       "      <td>0.000598</td>\n",
       "      <td>0.453485</td>\n",
       "    </tr>\n",
       "    <tr>\n",
       "      <th>200954406608272</th>\n",
       "      <td>0.537744</td>\n",
       "      <td>0.006399</td>\n",
       "      <td>0.455858</td>\n",
       "    </tr>\n",
       "    <tr>\n",
       "      <th>498203090239831</th>\n",
       "      <td>0.536254</td>\n",
       "      <td>0.006042</td>\n",
       "      <td>0.457704</td>\n",
       "    </tr>\n",
       "    <tr>\n",
       "      <th>548856635131690</th>\n",
       "      <td>0.539027</td>\n",
       "      <td>0.001377</td>\n",
       "      <td>0.459596</td>\n",
       "    </tr>\n",
       "    <tr>\n",
       "      <th>144189602310884</th>\n",
       "      <td>0.536110</td>\n",
       "      <td>0.001845</td>\n",
       "      <td>0.462045</td>\n",
       "    </tr>\n",
       "    <tr>\n",
       "      <th>406156242829341</th>\n",
       "      <td>0.531336</td>\n",
       "      <td>0.000297</td>\n",
       "      <td>0.468367</td>\n",
       "    </tr>\n",
       "    <tr>\n",
       "      <th>269056797871</th>\n",
       "      <td>0.486324</td>\n",
       "      <td>0.044196</td>\n",
       "      <td>0.469480</td>\n",
       "    </tr>\n",
       "    <tr>\n",
       "      <th>569337929781203</th>\n",
       "      <td>0.529463</td>\n",
       "      <td>0.000493</td>\n",
       "      <td>0.470044</td>\n",
       "    </tr>\n",
       "    <tr>\n",
       "      <th>729586907148929</th>\n",
       "      <td>0.518059</td>\n",
       "      <td>0.001129</td>\n",
       "      <td>0.480813</td>\n",
       "    </tr>\n",
       "    <tr>\n",
       "      <th>196583419888</th>\n",
       "      <td>0.447181</td>\n",
       "      <td>0.047871</td>\n",
       "      <td>0.504948</td>\n",
       "    </tr>\n",
       "    <tr>\n",
       "      <th>634339023261344</th>\n",
       "      <td>0.436170</td>\n",
       "      <td>0.046099</td>\n",
       "      <td>0.517730</td>\n",
       "    </tr>\n",
       "    <tr>\n",
       "      <th>352962731493606</th>\n",
       "      <td>0.422383</td>\n",
       "      <td>0.000000</td>\n",
       "      <td>0.577617</td>\n",
       "    </tr>\n",
       "    <tr>\n",
       "      <th>46251501064</th>\n",
       "      <td>0.399160</td>\n",
       "      <td>0.008403</td>\n",
       "      <td>0.592437</td>\n",
       "    </tr>\n",
       "    <tr>\n",
       "      <th>291139551002</th>\n",
       "      <td>0.227273</td>\n",
       "      <td>0.000000</td>\n",
       "      <td>0.772727</td>\n",
       "    </tr>\n",
       "    <tr>\n",
       "      <th>179264152235008</th>\n",
       "      <td>0.190099</td>\n",
       "      <td>0.000000</td>\n",
       "      <td>0.809901</td>\n",
       "    </tr>\n",
       "    <tr>\n",
       "      <th>149986161704699</th>\n",
       "      <td>0.120253</td>\n",
       "      <td>0.006329</td>\n",
       "      <td>0.873418</td>\n",
       "    </tr>\n",
       "    <tr>\n",
       "      <th>105759983026</th>\n",
       "      <td>0.074326</td>\n",
       "      <td>0.001468</td>\n",
       "      <td>0.924206</td>\n",
       "    </tr>\n",
       "  </tbody>\n",
       "</table>\n",
       "<p>67 rows × 3 columns</p>\n",
       "</div>"
      ],
      "text/plain": [
       "                         0         1         2\n",
       "pageid                                        \n",
       "171502099497      0.866667  0.133333  0.000000\n",
       "522230507809373   0.009798  0.988622  0.001580\n",
       "834591649886233   0.014113  0.984207  0.001680\n",
       "517394455028454   0.994040  0.003974  0.001987\n",
       "706305859460576   0.005105  0.990059  0.004836\n",
       "126261789615      0.987066  0.007055  0.005879\n",
       "498565150232596   0.011428  0.982063  0.006510\n",
       "107065679322731   0.249759  0.743587  0.006653\n",
       "512700315470576   0.012447  0.980300  0.007252\n",
       "423210364471433   0.991499  0.000000  0.008501\n",
       "497786323638932   0.966184  0.024155  0.009662\n",
       "486392624735448   0.026277  0.962702  0.011022\n",
       "108930682554176   0.840000  0.146667  0.013333\n",
       "156468627834558   0.039430  0.945405  0.015165\n",
       "1476654739234157  0.466292  0.516854  0.016854\n",
       "108591025857376   0.958333  0.020833  0.020833\n",
       "560688430610088   0.974071  0.001296  0.024633\n",
       "46446727755       0.871287  0.089109  0.039604\n",
       "172626052751159   0.818182  0.127273  0.054545\n",
       "544241848968882   0.919192  0.020202  0.060606\n",
       "121625551334730   0.929124  0.009665  0.061211\n",
       "544863235566535   0.924242  0.005051  0.070707\n",
       "276842442361916   0.907292  0.019220  0.073488\n",
       "5852261029        0.423913  0.489130  0.086957\n",
       "587874824557675   0.780463  0.101712  0.117825\n",
       "169360916432640   0.708223  0.171088  0.120690\n",
       "223783954322429   0.866418  0.002395  0.131187\n",
       "535289793202478   0.843373  0.024096  0.132530\n",
       "136845026417486   0.843750  0.000000  0.156250\n",
       "273813022746352   0.774268  0.004456  0.221276\n",
       "...                    ...       ...       ...\n",
       "139543009419663   0.546853  0.021361  0.431786\n",
       "160696287290644   0.525078  0.039536  0.435386\n",
       "568718043162016   0.550238  0.008599  0.441163\n",
       "27743445015       0.545067  0.013499  0.441433\n",
       "10795878252       0.554191  0.001935  0.443874\n",
       "373889722672759   0.552476  0.002147  0.445377\n",
       "420361564693683   0.534449  0.016963  0.448588\n",
       "100375550229      0.537170  0.011819  0.451011\n",
       "105259197447      0.535867  0.012738  0.451395\n",
       "272574169481780   0.546528  0.001367  0.452106\n",
       "211662168866197   0.526019  0.021508  0.452473\n",
       "121358481388309   0.536646  0.010232  0.453122\n",
       "200976479994868   0.522798  0.023982  0.453220\n",
       "127069410651529   0.545917  0.000598  0.453485\n",
       "200954406608272   0.537744  0.006399  0.455858\n",
       "498203090239831   0.536254  0.006042  0.457704\n",
       "548856635131690   0.539027  0.001377  0.459596\n",
       "144189602310884   0.536110  0.001845  0.462045\n",
       "406156242829341   0.531336  0.000297  0.468367\n",
       "269056797871      0.486324  0.044196  0.469480\n",
       "569337929781203   0.529463  0.000493  0.470044\n",
       "729586907148929   0.518059  0.001129  0.480813\n",
       "196583419888      0.447181  0.047871  0.504948\n",
       "634339023261344   0.436170  0.046099  0.517730\n",
       "352962731493606   0.422383  0.000000  0.577617\n",
       "46251501064       0.399160  0.008403  0.592437\n",
       "291139551002      0.227273  0.000000  0.772727\n",
       "179264152235008   0.190099  0.000000  0.809901\n",
       "149986161704699   0.120253  0.006329  0.873418\n",
       "105759983026      0.074326  0.001468  0.924206\n",
       "\n",
       "[67 rows x 3 columns]"
      ]
     },
     "execution_count": 253,
     "metadata": {},
     "output_type": "execute_result"
    }
   ],
   "source": [
    "pages_prob.sort_values(2,axis=0)"
   ]
  },
  {
   "cell_type": "code",
   "execution_count": 180,
   "metadata": {
    "collapsed": false
   },
   "outputs": [
    {
     "data": {
      "text/plain": [
       "0    0.987066\n",
       "1    0.007055\n",
       "2    0.005879\n",
       "Name: 126261789615, dtype: float64"
      ]
     },
     "execution_count": 180,
     "metadata": {},
     "output_type": "execute_result"
    }
   ],
   "source": [
    "pages_prob.loc[126261789615]"
   ]
  },
  {
   "cell_type": "code",
   "execution_count": 244,
   "metadata": {
    "collapsed": false,
    "scrolled": true
   },
   "outputs": [
    {
     "data": {
      "text/plain": [
       "pageid\n",
       "5852261029          1.335909\n",
       "10795878252         1.009484\n",
       "27743445015         1.081821\n",
       "46251501064         1.034259\n",
       "46446727755         0.668515\n",
       "100375550229        1.075382\n",
       "105259197447        1.080485\n",
       "105759983026        0.397632\n",
       "126261789615        0.112523\n",
       "171502099497        0.566510\n",
       "180447291099        1.046618\n",
       "196583419888        1.226883\n",
       "269056797871        1.216801\n",
       "291139551002        0.773227\n",
       "107065679322731     0.865808\n",
       "108591025857376     0.291549\n",
       "108930682554176     0.700520\n",
       "117969648299869     1.014018\n",
       "121358481388309     1.067004\n",
       "121625551334730     0.409913\n",
       "127069410651529     1.000495\n",
       "136845026417486     0.625262\n",
       "139543009419663     1.117874\n",
       "144189602310884     1.013603\n",
       "149986161704699     0.584243\n",
       "156468627834558     0.352140\n",
       "160696287290644     1.194574\n",
       "169360916432640     1.156472\n",
       "172626052751159     0.844273\n",
       "178965725523592     0.843700\n",
       "                      ...   \n",
       "273813022746352     0.802093\n",
       "276842442361916     0.513707\n",
       "287013041410957     0.937722\n",
       "352962731493606     0.982547\n",
       "373889722672759     1.011667\n",
       "406156242829341     1.000744\n",
       "420361564693683     1.101650\n",
       "423210364471433     0.070682\n",
       "448027308647829     0.996698\n",
       "486392624735448     0.262428\n",
       "494307913997852     0.857120\n",
       "497786323638932     0.242372\n",
       "498203090239831     1.042702\n",
       "498565150232596     0.146650\n",
       "512700315470576     0.158450\n",
       "517394455028454     0.058095\n",
       "522230507809373     0.096410\n",
       "535289793202478     0.723189\n",
       "544241848968882     0.470578\n",
       "544863235566535     0.413821\n",
       "548856635131690     1.009137\n",
       "560688430610088     0.180973\n",
       "568718043162016     1.054084\n",
       "569337929781203     1.003086\n",
       "587874824557675     0.978004\n",
       "634339023261344     1.218454\n",
       "706305859460576     0.090337\n",
       "729586907148929     1.010548\n",
       "834591649886233     0.124839\n",
       "1476654739234157    1.104661\n",
       "dtype: float64"
      ]
     },
     "execution_count": 244,
     "metadata": {},
     "output_type": "execute_result"
    }
   ],
   "source": [
    "pages_entropy.sum(axis=1)"
   ]
  },
  {
   "cell_type": "code",
   "execution_count": 249,
   "metadata": {
    "collapsed": false,
    "scrolled": true
   },
   "outputs": [
    {
     "data": {
      "text/plain": [
       "pageid\n",
       "5852261029          32560.0\n",
       "10795878252          7877.0\n",
       "27743445015          5522.0\n",
       "46251501064         23805.0\n",
       "46446727755          5303.0\n",
       "100375550229        12843.0\n",
       "105259197447        75595.0\n",
       "105759983026         9069.0\n",
       "126261789615        20463.0\n",
       "171502099497         3976.0\n",
       "180447291099        11834.0\n",
       "196583419888         3138.0\n",
       "269056797871         3457.0\n",
       "291139551002         5103.0\n",
       "107065679322731     12787.0\n",
       "108591025857376      4900.0\n",
       "108930682554176      4702.0\n",
       "117969648299869      3061.0\n",
       "121358481388309      2857.0\n",
       "121625551334730      2811.0\n",
       "127069410651529      1904.0\n",
       "136845026417486     27717.0\n",
       "139543009419663      4371.0\n",
       "144189602310884      2135.0\n",
       "149986161704699     13003.0\n",
       "156468627834558     20593.0\n",
       "160696287290644      7329.0\n",
       "169360916432640      8947.0\n",
       "172626052751159      2479.0\n",
       "178965725523592      4603.0\n",
       "                     ...   \n",
       "273813022746352     20923.0\n",
       "276842442361916      3359.0\n",
       "287013041410957     22908.0\n",
       "352962731493606     25350.0\n",
       "373889722672759     12467.0\n",
       "406156242829341      6017.0\n",
       "420361564693683     20899.0\n",
       "423210364471433      1378.0\n",
       "448027308647829      7390.0\n",
       "486392624735448     31853.0\n",
       "494307913997852      1531.0\n",
       "497786323638932     13017.0\n",
       "498203090239831      7729.0\n",
       "498565150232596     30189.0\n",
       "512700315470576     20636.0\n",
       "517394455028454      1601.0\n",
       "522230507809373      3419.0\n",
       "535289793202478      1221.0\n",
       "544241848968882     50592.0\n",
       "544863235566535       556.0\n",
       "548856635131690      1226.0\n",
       "560688430610088      2346.0\n",
       "568718043162016      5106.0\n",
       "569337929781203      4479.0\n",
       "587874824557675      2534.0\n",
       "634339023261344      2633.0\n",
       "706305859460576      3878.0\n",
       "729586907148929      1447.0\n",
       "834591649886233      3349.0\n",
       "1476654739234157     5933.0\n",
       "dtype: float64"
      ]
     },
     "execution_count": 249,
     "metadata": {},
     "output_type": "execute_result"
    }
   ],
   "source": [
    "predict_metric.sum()"
   ]
  },
  {
   "cell_type": "code",
   "execution_count": 250,
   "metadata": {
    "collapsed": true
   },
   "outputs": [],
   "source": [
    "plot_datas=pd.concat([pages_entropy.sum(axis=1),predict_metric.sum()], axis=1)"
   ]
  },
  {
   "cell_type": "code",
   "execution_count": 254,
   "metadata": {
    "collapsed": true
   },
   "outputs": [],
   "source": [
    "pages_prob.sort_values(2,axis=0).to_csv(path_or_buf='pages-prob.csv')"
   ]
  }
 ],
 "metadata": {
  "anaconda-cloud": {},
  "kernelspec": {
   "display_name": "Python [Root]",
   "language": "python",
   "name": "Python [Root]"
  },
  "language_info": {
   "codemirror_mode": {
    "name": "ipython",
    "version": 2
   },
   "file_extension": ".py",
   "mimetype": "text/x-python",
   "name": "python",
   "nbconvert_exporter": "python",
   "pygments_lexer": "ipython2",
   "version": "2.7.12"
  }
 },
 "nbformat": 4,
 "nbformat_minor": 0
}
